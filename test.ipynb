{
 "cells": [
  {
   "cell_type": "code",
   "execution_count": 1,
   "metadata": {},
   "outputs": [],
   "source": [
    "import pandas as pd"
   ]
  },
  {
   "cell_type": "code",
   "execution_count": 8,
   "metadata": {},
   "outputs": [
    {
     "name": "stdout",
     "output_type": "stream",
     "text": [
      "[{'participantId': 1, 'puuid': 'AMFk82n2ihNpdL4bG4z94Vqbghmm4P2bsN7dDkcVpHFWt_Do_pZKaqBK45yLZhVw1dc4VRY_-cEj8Q'}, {'participantId': 2, 'puuid': 'XAUAWXIM803mo-ufiwIgYBd0v-8TECNj6C_-dESxHKvt7Kz4Zlhqgb3TqOYU_B3GG1tHoWrNQHpc9A'}, {'participantId': 3, 'puuid': 'OALIIOb_3ywTuPI-QrBPYphfw8T64i6EL69VdG4c0nmla4c9oSXGY5NCW8g8LSvHU-GDq-8qaVDcHA'}, {'participantId': 4, 'puuid': 'JjWxERMfCA1IXUcw_rpFPRfnsmtOrCLamKcMr8X1Vi-NOQJsdQJdqu1eTLWorXxkJ39DMo3YdZx0tQ'}, {'participantId': 5, 'puuid': 'Jm0isPUFlIE6q1fWbuCwubWwwlzJBjhdpVT_yTXkg-SLhDMG1UFyQ6l9aeff1WAWVcs3YYfmqvbuLA'}, {'participantId': 6, 'puuid': '4q57pIIXYJGt5atLQwEfnaBlf2Cz_BLs7zs-ZddEm3Q9fUm2MQCRdm40U-sEA4sIYMSJZos5jfiOhA'}, {'participantId': 7, 'puuid': 'HwL0sA0PIcwIEseJm5fOxEAahXvdp5AVLaSQcn7rt1jT2NeIKl2KzOoAg4vxUlkDQ37nbyICSkTNgw'}, {'participantId': 8, 'puuid': 'b000j0aEcASyBTEUXN2AelH6uAea-0SKzH9zQkasCXcShKvom-DsLPlV6tC_4h5PS_Aewbb24XPH5g'}, {'participantId': 9, 'puuid': 'wuarT-DhGSC7rhycNBZttHYUHV2d6gLGGPH2Hp_9D4hHwsbSrT3ZyuPkPAvchc0_Owp1Y2VRsE0DUQ'}, {'participantId': 10, 'puuid': '7rEirKQ_AogNgbPKO0LDnJKY3swugSWOjQ6Ih1Y0X1pE1dMyzUNNfUhFVVNqKxgiD5-DxmZOCXV7Sw'}]\n"
     ]
    }
   ],
   "source": [
    "data = pd.read_json('test_data/timeline_NA1_52455.json')\n",
    "print(data['info']['participants'])"
   ]
  },
  {
   "cell_type": "code",
   "execution_count": null,
   "metadata": {},
   "outputs": [],
   "source": []
  }
 ],
 "metadata": {
  "kernelspec": {
   "display_name": "venv",
   "language": "python",
   "name": "python3"
  },
  "language_info": {
   "codemirror_mode": {
    "name": "ipython",
    "version": 3
   },
   "file_extension": ".py",
   "mimetype": "text/x-python",
   "name": "python",
   "nbconvert_exporter": "python",
   "pygments_lexer": "ipython3",
   "version": "3.12.9"
  }
 },
 "nbformat": 4,
 "nbformat_minor": 2
}
