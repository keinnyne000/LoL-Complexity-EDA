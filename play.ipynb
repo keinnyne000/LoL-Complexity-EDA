{
 "cells": [
  {
   "cell_type": "markdown",
   "metadata": {},
   "source": [
    "### Play"
   ]
  },
  {
   "cell_type": "code",
   "execution_count": 1,
   "metadata": {},
   "outputs": [],
   "source": [
    "import requests\n",
    "\n",
    "from helpers import api_get_league_page, api_get_matches, api_get_match_data"
   ]
  },
  {
   "cell_type": "code",
   "execution_count": null,
   "metadata": {},
   "outputs": [],
   "source": [
    "API_KEY = 'RGAPI-2b53bd4d-1b21-42ad-a494-0a7bc2bf7892'"
   ]
  },
  {
   "cell_type": "code",
   "execution_count": 2,
   "metadata": {},
   "outputs": [],
   "source": [
    "def request_data(url):\n",
    "    response = requests.get(url)\n",
    "    if response.status_code == 200:\n",
    "        return response.json()\n",
    "    else:\n",
    "        response.raise_for_status() "
   ]
  },
  {
   "cell_type": "code",
   "execution_count": null,
   "metadata": {},
   "outputs": [],
   "source": [
    "league_data = api_get_league_page('DIAMOND', 'I', 1, API_KEY)"
   ]
  },
  {
   "cell_type": "code",
   "execution_count": 13,
   "metadata": {},
   "outputs": [
    {
     "name": "stdout",
     "output_type": "stream",
     "text": [
      "_p-2RnnTNo_DyvE0huczQxJe9Pf5ihfSwYRz62MkE0-s9J_GBC5fYo6JEGjuKu2ZOO_OLMqqA1aBMQ\n"
     ]
    }
   ],
   "source": [
    "print(league_data[0]['puuid'])"
   ]
  },
  {
   "cell_type": "code",
   "execution_count": 16,
   "metadata": {},
   "outputs": [
    {
     "data": {
      "text/plain": [
       "['NA1_5252271969']"
      ]
     },
     "execution_count": 16,
     "metadata": {},
     "output_type": "execute_result"
    }
   ],
   "source": [
    "match_id = api_get_matches(league_data[0]['puuid'], API_KEY, 1)\n",
    "match_id"
   ]
  },
  {
   "cell_type": "code",
   "execution_count": 26,
   "metadata": {},
   "outputs": [],
   "source": [
    "match_data = api_get_match_data(match_id[0], API_KEY)"
   ]
  },
  {
   "cell_type": "code",
   "execution_count": null,
   "metadata": {},
   "outputs": [
    {
     "name": "stdout",
     "output_type": "stream",
     "text": [
      "AurelionSol\n",
      "Maokai\n",
      "Jayce\n",
      "Syndra\n",
      "Leona\n",
      "Smolder\n",
      "Kayn\n",
      "Swain\n",
      "Lucian\n",
      "Braum\n"
     ]
    }
   ],
   "source": [
    "for p in match_data['info']['participants'][:10]:\n",
    "    print(p['championName'])"
   ]
  }
 ],
 "metadata": {
  "kernelspec": {
   "display_name": "venv",
   "language": "python",
   "name": "python3"
  },
  "language_info": {
   "codemirror_mode": {
    "name": "ipython",
    "version": 3
   },
   "file_extension": ".py",
   "mimetype": "text/x-python",
   "name": "python",
   "nbconvert_exporter": "python",
   "pygments_lexer": "ipython3",
   "version": "3.12.9"
  }
 },
 "nbformat": 4,
 "nbformat_minor": 2
}
