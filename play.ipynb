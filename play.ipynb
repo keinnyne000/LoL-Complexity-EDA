{
 "cells": [
  {
   "cell_type": "markdown",
   "metadata": {},
   "source": [
    "### Play"
   ]
  },
  {
   "cell_type": "code",
   "execution_count": 5,
   "metadata": {},
   "outputs": [],
   "source": [
    "import requests\n",
    "import pandas as pd\n",
    "\n",
    "from helpers import api_get_league_page, api_get_matches, api_get_match_data"
   ]
  },
  {
   "cell_type": "code",
   "execution_count": 20,
   "metadata": {},
   "outputs": [],
   "source": [
    "import numpy as np"
   ]
  },
  {
   "cell_type": "code",
   "execution_count": 2,
   "metadata": {},
   "outputs": [],
   "source": [
    "API_KEY = 'RGAPI-75104283-c3c0-4f11-8431-24d3d7ce4b69'"
   ]
  },
  {
   "cell_type": "code",
   "execution_count": 3,
   "metadata": {},
   "outputs": [],
   "source": [
    "def request_data(url):\n",
    "    response = requests.get(url)\n",
    "    if response.status_code == 200:\n",
    "        return response.json()\n",
    "    else:\n",
    "        response.raise_for_status() "
   ]
  },
  {
   "cell_type": "code",
   "execution_count": 4,
   "metadata": {},
   "outputs": [],
   "source": [
    "league_data = api_get_league_page('DIAMOND', 'I', 1, API_KEY)"
   ]
  },
  {
   "cell_type": "code",
   "execution_count": 13,
   "metadata": {},
   "outputs": [
    {
     "name": "stdout",
     "output_type": "stream",
     "text": [
      "_p-2RnnTNo_DyvE0huczQxJe9Pf5ihfSwYRz62MkE0-s9J_GBC5fYo6JEGjuKu2ZOO_OLMqqA1aBMQ\n"
     ]
    }
   ],
   "source": [
    "print(league_data[0]['puuid'])"
   ]
  },
  {
   "cell_type": "code",
   "execution_count": 16,
   "metadata": {},
   "outputs": [
    {
     "data": {
      "text/plain": [
       "['NA1_5252271969']"
      ]
     },
     "execution_count": 16,
     "metadata": {},
     "output_type": "execute_result"
    }
   ],
   "source": [
    "match_id = api_get_matches(league_data[0]['puuid'], API_KEY, 1)\n",
    "match_id"
   ]
  },
  {
   "cell_type": "code",
   "execution_count": 26,
   "metadata": {},
   "outputs": [],
   "source": [
    "match_data = api_get_match_data(match_id[0], API_KEY)"
   ]
  },
  {
   "cell_type": "code",
   "execution_count": null,
   "metadata": {},
   "outputs": [
    {
     "name": "stdout",
     "output_type": "stream",
     "text": [
      "AurelionSol\n",
      "Maokai\n",
      "Jayce\n",
      "Syndra\n",
      "Leona\n",
      "Smolder\n",
      "Kayn\n",
      "Swain\n",
      "Lucian\n",
      "Braum\n"
     ]
    }
   ],
   "source": [
    "for p in match_data['info']['participants'][:10]:\n",
    "    print(p['championName'])"
   ]
  },
  {
   "cell_type": "code",
   "execution_count": 7,
   "metadata": {},
   "outputs": [
    {
     "data": {
      "text/plain": [
       "0      IRON\n",
       "1      IRON\n",
       "2      IRON\n",
       "3      IRON\n",
       "4    BRONZE\n",
       "5    BRONZE\n",
       "6    BRONZE\n",
       "7    BRONZE\n",
       "8    SILVER\n",
       "9    SILVER\n",
       "Name: tier, dtype: object"
      ]
     },
     "execution_count": 7,
     "metadata": {},
     "output_type": "execute_result"
    }
   ],
   "source": [
    "rank_distribution = pd.read_json('rank_distribution_32825.json')\n",
    "rank_distribution.head()\n",
    "rank_distribution['tier'][0:10]"
   ]
  },
  {
   "cell_type": "code",
   "execution_count": 13,
   "metadata": {},
   "outputs": [
    {
     "name": "stdout",
     "output_type": "stream",
     "text": [
      "IRON I\n",
      "IRON II\n",
      "IRON III\n",
      "IRON IV\n",
      "BRONZE I\n",
      "BRONZE II\n",
      "BRONZE III\n",
      "BRONZE IV\n",
      "SILVER I\n",
      "SILVER II\n",
      "SILVER III\n",
      "SILVER IV\n",
      "GOLD I\n",
      "GOLD II\n",
      "GOLD III\n",
      "GOLD IV\n",
      "PLATINUM I\n",
      "PLATINUM II\n",
      "PLATINUM III\n",
      "PLATINUM IV\n",
      "EMERALD I\n",
      "EMERALD II\n",
      "EMERALD III\n",
      "EMERALD IV\n",
      "DIAMOND I\n",
      "DIAMOND II\n",
      "DIAMOND III\n",
      "DIAMOND IV\n",
      "MASTER I\n",
      "GRANDMASTER I\n",
      "CHALLENGER I\n"
     ]
    }
   ],
   "source": [
    "for d in rank_distribution.iloc():\n",
    "    print(d['tier'] + ' ' + d['division'])"
   ]
  },
  {
   "cell_type": "code",
   "execution_count": 28,
   "metadata": {},
   "outputs": [
    {
     "name": "stdout",
     "output_type": "stream",
     "text": [
      "IRON I 340.0\n",
      "IRON II 480.0\n",
      "IRON III 550.0\n",
      "IRON IV 520.0\n",
      "BRONZE I 350.0\n",
      "BRONZE II 470.0\n",
      "BRONZE III 510.0\n",
      "BRONZE IV 630.0\n",
      "SILVER I 330.0\n",
      "SILVER II 450.0\n",
      "SILVER III 490.0\n",
      "SILVER IV 640.0\n",
      "GOLD I 230.0\n",
      "GOLD II 360.0\n",
      "GOLD III 440.0\n",
      "GOLD IV 710.0\n",
      "PLATINUM I 160.0\n",
      "PLATINUM II 240.0\n",
      "PLATINUM III 290.0\n",
      "PLATINUM IV 480.0\n",
      "EMERALD I 130.0\n",
      "EMERALD II 140.0\n",
      "EMERALD III 200.0\n",
      "EMERALD IV 380.0\n",
      "DIAMOND I 46.0\n",
      "DIAMOND II 44.0\n",
      "DIAMOND III 56.0\n",
      "DIAMOND IV 130.0\n",
      "MASTER I 58.0\n",
      "GRANDMASTER I 7.0\n",
      "CHALLENGER I 3.0\n"
     ]
    }
   ],
   "source": [
    "match_count = 10000\n",
    "\n",
    "for d in rank_distribution.iloc():\n",
    "    count: int = (d['percentage'] * match_count).round()\n",
    "    print(f\"{d['tier']} {d['division']} {count}\")"
   ]
  },
  {
   "cell_type": "code",
   "execution_count": 29,
   "metadata": {},
   "outputs": [
    {
     "name": "stdout",
     "output_type": "stream",
     "text": [
      "1.0\n"
     ]
    }
   ],
   "source": [
    "lol = 0.4\n",
    "print(np.ceil(lol))"
   ]
  },
  {
   "cell_type": "code",
   "execution_count": null,
   "metadata": {},
   "outputs": [],
   "source": []
  }
 ],
 "metadata": {
  "kernelspec": {
   "display_name": "venv",
   "language": "python",
   "name": "python3"
  },
  "language_info": {
   "codemirror_mode": {
    "name": "ipython",
    "version": 3
   },
   "file_extension": ".py",
   "mimetype": "text/x-python",
   "name": "python",
   "nbconvert_exporter": "python",
   "pygments_lexer": "ipython3",
   "version": "3.12.9"
  }
 },
 "nbformat": 4,
 "nbformat_minor": 2
}
