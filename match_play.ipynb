{
 "cells": [
  {
   "cell_type": "code",
   "execution_count": 1,
   "metadata": {},
   "outputs": [],
   "source": [
    "import pandas as pd\n",
    "import numpy as np\n",
    "import matplotlib.pyplot as plt"
   ]
  },
  {
   "cell_type": "code",
   "execution_count": 2,
   "metadata": {},
   "outputs": [],
   "source": [
    "data_d4 = pd.read_json(\"data_d4_1.json\")"
   ]
  },
  {
   "cell_type": "code",
   "execution_count": 3,
   "metadata": {},
   "outputs": [
    {
     "data": {
      "text/html": [
       "<div>\n",
       "<style scoped>\n",
       "    .dataframe tbody tr th:only-of-type {\n",
       "        vertical-align: middle;\n",
       "    }\n",
       "\n",
       "    .dataframe tbody tr th {\n",
       "        vertical-align: top;\n",
       "    }\n",
       "\n",
       "    .dataframe thead th {\n",
       "        text-align: right;\n",
       "    }\n",
       "</style>\n",
       "<table border=\"1\" class=\"dataframe\">\n",
       "  <thead>\n",
       "    <tr style=\"text-align: right;\">\n",
       "      <th></th>\n",
       "      <th>endOfGameResult</th>\n",
       "      <th>gameCreation</th>\n",
       "      <th>gameDuration</th>\n",
       "      <th>gameEndTimestamp</th>\n",
       "      <th>gameId</th>\n",
       "      <th>gameMode</th>\n",
       "      <th>gameName</th>\n",
       "      <th>gameStartTimestamp</th>\n",
       "      <th>gameType</th>\n",
       "      <th>gameVersion</th>\n",
       "      <th>mapId</th>\n",
       "      <th>participants</th>\n",
       "      <th>platformId</th>\n",
       "      <th>queueId</th>\n",
       "      <th>teams</th>\n",
       "      <th>tournamentCode</th>\n",
       "    </tr>\n",
       "  </thead>\n",
       "  <tbody>\n",
       "    <tr>\n",
       "      <th>0</th>\n",
       "      <td>GameComplete</td>\n",
       "      <td>1743031008938</td>\n",
       "      <td>2135</td>\n",
       "      <td>1743033167555</td>\n",
       "      <td>5254369051</td>\n",
       "      <td>CLASSIC</td>\n",
       "      <td>teambuilder-match-5254369051</td>\n",
       "      <td>1743031031891</td>\n",
       "      <td>MATCHED_GAME</td>\n",
       "      <td>15.6.668.2516</td>\n",
       "      <td>11</td>\n",
       "      <td>[{'PlayerScore0': 0, 'PlayerScore1': 0, 'Playe...</td>\n",
       "      <td>NA1</td>\n",
       "      <td>420</td>\n",
       "      <td>[{'bans': [{'championId': 53, 'pickTurn': 1}, ...</td>\n",
       "      <td></td>\n",
       "    </tr>\n",
       "    <tr>\n",
       "      <th>1</th>\n",
       "      <td>GameComplete</td>\n",
       "      <td>1743018056828</td>\n",
       "      <td>2416</td>\n",
       "      <td>1743020494839</td>\n",
       "      <td>5254274939</td>\n",
       "      <td>CLASSIC</td>\n",
       "      <td>teambuilder-match-5254274939</td>\n",
       "      <td>1743018078461</td>\n",
       "      <td>MATCHED_GAME</td>\n",
       "      <td>15.6.668.2516</td>\n",
       "      <td>11</td>\n",
       "      <td>[{'PlayerScore0': 0, 'PlayerScore1': 0, 'Playe...</td>\n",
       "      <td>NA1</td>\n",
       "      <td>420</td>\n",
       "      <td>[{'bans': [{'championId': 43, 'pickTurn': 1}, ...</td>\n",
       "      <td></td>\n",
       "    </tr>\n",
       "    <tr>\n",
       "      <th>2</th>\n",
       "      <td>GameComplete</td>\n",
       "      <td>1743015586717</td>\n",
       "      <td>1306</td>\n",
       "      <td>1743016977238</td>\n",
       "      <td>5254259139</td>\n",
       "      <td>CLASSIC</td>\n",
       "      <td>teambuilder-match-5254259139</td>\n",
       "      <td>1743015671457</td>\n",
       "      <td>MATCHED_GAME</td>\n",
       "      <td>15.6.668.2516</td>\n",
       "      <td>11</td>\n",
       "      <td>[{'PlayerScore0': 0, 'PlayerScore1': 0, 'Playe...</td>\n",
       "      <td>NA1</td>\n",
       "      <td>420</td>\n",
       "      <td>[{'bans': [{'championId': 42, 'pickTurn': 1}, ...</td>\n",
       "      <td></td>\n",
       "    </tr>\n",
       "    <tr>\n",
       "      <th>3</th>\n",
       "      <td>GameComplete</td>\n",
       "      <td>1743013608024</td>\n",
       "      <td>1615</td>\n",
       "      <td>1743015254390</td>\n",
       "      <td>5254248943</td>\n",
       "      <td>CLASSIC</td>\n",
       "      <td>teambuilder-match-5254248943</td>\n",
       "      <td>1743013639101</td>\n",
       "      <td>MATCHED_GAME</td>\n",
       "      <td>15.6.668.2516</td>\n",
       "      <td>11</td>\n",
       "      <td>[{'PlayerScore0': 0, 'PlayerScore1': 0, 'Playe...</td>\n",
       "      <td>NA1</td>\n",
       "      <td>420</td>\n",
       "      <td>[{'bans': [{'championId': 420, 'pickTurn': 1},...</td>\n",
       "      <td></td>\n",
       "    </tr>\n",
       "    <tr>\n",
       "      <th>4</th>\n",
       "      <td>GameComplete</td>\n",
       "      <td>1742968117799</td>\n",
       "      <td>2198</td>\n",
       "      <td>1742970478497</td>\n",
       "      <td>5254094674</td>\n",
       "      <td>CLASSIC</td>\n",
       "      <td>teambuilder-match-5254094674</td>\n",
       "      <td>1742968280349</td>\n",
       "      <td>MATCHED_GAME</td>\n",
       "      <td>15.6.668.2516</td>\n",
       "      <td>11</td>\n",
       "      <td>[{'PlayerScore0': 0, 'PlayerScore1': 0, 'Playe...</td>\n",
       "      <td>NA1</td>\n",
       "      <td>420</td>\n",
       "      <td>[{'bans': [{'championId': 42, 'pickTurn': 1}, ...</td>\n",
       "      <td></td>\n",
       "    </tr>\n",
       "  </tbody>\n",
       "</table>\n",
       "</div>"
      ],
      "text/plain": [
       "  endOfGameResult   gameCreation  gameDuration  gameEndTimestamp      gameId  \\\n",
       "0    GameComplete  1743031008938          2135     1743033167555  5254369051   \n",
       "1    GameComplete  1743018056828          2416     1743020494839  5254274939   \n",
       "2    GameComplete  1743015586717          1306     1743016977238  5254259139   \n",
       "3    GameComplete  1743013608024          1615     1743015254390  5254248943   \n",
       "4    GameComplete  1742968117799          2198     1742970478497  5254094674   \n",
       "\n",
       "  gameMode                      gameName  gameStartTimestamp      gameType  \\\n",
       "0  CLASSIC  teambuilder-match-5254369051       1743031031891  MATCHED_GAME   \n",
       "1  CLASSIC  teambuilder-match-5254274939       1743018078461  MATCHED_GAME   \n",
       "2  CLASSIC  teambuilder-match-5254259139       1743015671457  MATCHED_GAME   \n",
       "3  CLASSIC  teambuilder-match-5254248943       1743013639101  MATCHED_GAME   \n",
       "4  CLASSIC  teambuilder-match-5254094674       1742968280349  MATCHED_GAME   \n",
       "\n",
       "     gameVersion  mapId                                       participants  \\\n",
       "0  15.6.668.2516     11  [{'PlayerScore0': 0, 'PlayerScore1': 0, 'Playe...   \n",
       "1  15.6.668.2516     11  [{'PlayerScore0': 0, 'PlayerScore1': 0, 'Playe...   \n",
       "2  15.6.668.2516     11  [{'PlayerScore0': 0, 'PlayerScore1': 0, 'Playe...   \n",
       "3  15.6.668.2516     11  [{'PlayerScore0': 0, 'PlayerScore1': 0, 'Playe...   \n",
       "4  15.6.668.2516     11  [{'PlayerScore0': 0, 'PlayerScore1': 0, 'Playe...   \n",
       "\n",
       "  platformId  queueId                                              teams  \\\n",
       "0        NA1      420  [{'bans': [{'championId': 53, 'pickTurn': 1}, ...   \n",
       "1        NA1      420  [{'bans': [{'championId': 43, 'pickTurn': 1}, ...   \n",
       "2        NA1      420  [{'bans': [{'championId': 42, 'pickTurn': 1}, ...   \n",
       "3        NA1      420  [{'bans': [{'championId': 420, 'pickTurn': 1},...   \n",
       "4        NA1      420  [{'bans': [{'championId': 42, 'pickTurn': 1}, ...   \n",
       "\n",
       "  tournamentCode  \n",
       "0                 \n",
       "1                 \n",
       "2                 \n",
       "3                 \n",
       "4                 "
      ]
     },
     "execution_count": 3,
     "metadata": {},
     "output_type": "execute_result"
    }
   ],
   "source": [
    "df_d4 = pd.DataFrame(data_d4['info'].tolist())\n",
    "df_d4.head()\n"
   ]
  },
  {
   "cell_type": "code",
   "execution_count": 4,
   "metadata": {},
   "outputs": [],
   "source": [
    "participant_data = [c for p in df_d4['participants'] for c in p[:10]]\n",
    "df_participants = pd.DataFrame(participant_data)\n"
   ]
  },
  {
   "cell_type": "code",
   "execution_count": 38,
   "metadata": {},
   "outputs": [],
   "source": [
    "cleaned = df_participants.apply(lambda row: row.map(lambda x: str(x) if isinstance(x, dict) else x), axis=1)\n",
    "cleaned = cleaned.drop_duplicates()"
   ]
  },
  {
   "cell_type": "code",
   "execution_count": 36,
   "metadata": {},
   "outputs": [
    {
     "name": "stdout",
     "output_type": "stream",
     "text": [
      "(40800, 145)\n",
      "(40500, 145)\n"
     ]
    }
   ],
   "source": [
    "print(df_participants.shape)\n",
    "print(cleaned.shape)"
   ]
  },
  {
   "cell_type": "code",
   "execution_count": 42,
   "metadata": {},
   "outputs": [
    {
     "data": {
      "text/html": [
       "<div>\n",
       "<style scoped>\n",
       "    .dataframe tbody tr th:only-of-type {\n",
       "        vertical-align: middle;\n",
       "    }\n",
       "\n",
       "    .dataframe tbody tr th {\n",
       "        vertical-align: top;\n",
       "    }\n",
       "\n",
       "    .dataframe thead th {\n",
       "        text-align: right;\n",
       "    }\n",
       "</style>\n",
       "<table border=\"1\" class=\"dataframe\">\n",
       "  <thead>\n",
       "    <tr style=\"text-align: right;\">\n",
       "      <th></th>\n",
       "      <th>PlayerScore0</th>\n",
       "      <th>PlayerScore1</th>\n",
       "      <th>PlayerScore10</th>\n",
       "      <th>PlayerScore11</th>\n",
       "      <th>PlayerScore2</th>\n",
       "      <th>PlayerScore3</th>\n",
       "      <th>PlayerScore4</th>\n",
       "      <th>PlayerScore5</th>\n",
       "      <th>PlayerScore6</th>\n",
       "      <th>PlayerScore7</th>\n",
       "      <th>...</th>\n",
       "      <th>turretKills</th>\n",
       "      <th>turretTakedowns</th>\n",
       "      <th>turretsLost</th>\n",
       "      <th>unrealKills</th>\n",
       "      <th>visionClearedPings</th>\n",
       "      <th>visionScore</th>\n",
       "      <th>visionWardsBoughtInGame</th>\n",
       "      <th>wardsKilled</th>\n",
       "      <th>wardsPlaced</th>\n",
       "      <th>win</th>\n",
       "    </tr>\n",
       "  </thead>\n",
       "  <tbody>\n",
       "    <tr>\n",
       "      <th>0</th>\n",
       "      <td>0.0</td>\n",
       "      <td>0.0</td>\n",
       "      <td>0.0</td>\n",
       "      <td>0.0</td>\n",
       "      <td>0.0</td>\n",
       "      <td>0.0</td>\n",
       "      <td>0.0</td>\n",
       "      <td>0.0</td>\n",
       "      <td>0.0</td>\n",
       "      <td>0.0</td>\n",
       "      <td>...</td>\n",
       "      <td>2</td>\n",
       "      <td>3</td>\n",
       "      <td>3</td>\n",
       "      <td>0</td>\n",
       "      <td>0</td>\n",
       "      <td>25</td>\n",
       "      <td>0</td>\n",
       "      <td>2</td>\n",
       "      <td>13</td>\n",
       "      <td>True</td>\n",
       "    </tr>\n",
       "    <tr>\n",
       "      <th>1</th>\n",
       "      <td>0.0</td>\n",
       "      <td>0.0</td>\n",
       "      <td>0.0</td>\n",
       "      <td>0.0</td>\n",
       "      <td>0.0</td>\n",
       "      <td>0.0</td>\n",
       "      <td>0.0</td>\n",
       "      <td>0.0</td>\n",
       "      <td>0.0</td>\n",
       "      <td>0.0</td>\n",
       "      <td>...</td>\n",
       "      <td>1</td>\n",
       "      <td>3</td>\n",
       "      <td>3</td>\n",
       "      <td>0</td>\n",
       "      <td>0</td>\n",
       "      <td>33</td>\n",
       "      <td>5</td>\n",
       "      <td>6</td>\n",
       "      <td>6</td>\n",
       "      <td>True</td>\n",
       "    </tr>\n",
       "    <tr>\n",
       "      <th>2</th>\n",
       "      <td>0.0</td>\n",
       "      <td>0.0</td>\n",
       "      <td>0.0</td>\n",
       "      <td>0.0</td>\n",
       "      <td>0.0</td>\n",
       "      <td>0.0</td>\n",
       "      <td>0.0</td>\n",
       "      <td>0.0</td>\n",
       "      <td>0.0</td>\n",
       "      <td>0.0</td>\n",
       "      <td>...</td>\n",
       "      <td>5</td>\n",
       "      <td>7</td>\n",
       "      <td>3</td>\n",
       "      <td>0</td>\n",
       "      <td>0</td>\n",
       "      <td>13</td>\n",
       "      <td>0</td>\n",
       "      <td>3</td>\n",
       "      <td>8</td>\n",
       "      <td>True</td>\n",
       "    </tr>\n",
       "    <tr>\n",
       "      <th>3</th>\n",
       "      <td>0.0</td>\n",
       "      <td>0.0</td>\n",
       "      <td>0.0</td>\n",
       "      <td>0.0</td>\n",
       "      <td>0.0</td>\n",
       "      <td>0.0</td>\n",
       "      <td>0.0</td>\n",
       "      <td>0.0</td>\n",
       "      <td>0.0</td>\n",
       "      <td>0.0</td>\n",
       "      <td>...</td>\n",
       "      <td>2</td>\n",
       "      <td>4</td>\n",
       "      <td>3</td>\n",
       "      <td>0</td>\n",
       "      <td>0</td>\n",
       "      <td>35</td>\n",
       "      <td>0</td>\n",
       "      <td>3</td>\n",
       "      <td>11</td>\n",
       "      <td>True</td>\n",
       "    </tr>\n",
       "    <tr>\n",
       "      <th>4</th>\n",
       "      <td>0.0</td>\n",
       "      <td>0.0</td>\n",
       "      <td>0.0</td>\n",
       "      <td>0.0</td>\n",
       "      <td>0.0</td>\n",
       "      <td>0.0</td>\n",
       "      <td>0.0</td>\n",
       "      <td>0.0</td>\n",
       "      <td>0.0</td>\n",
       "      <td>0.0</td>\n",
       "      <td>...</td>\n",
       "      <td>0</td>\n",
       "      <td>2</td>\n",
       "      <td>3</td>\n",
       "      <td>0</td>\n",
       "      <td>0</td>\n",
       "      <td>68</td>\n",
       "      <td>4</td>\n",
       "      <td>2</td>\n",
       "      <td>29</td>\n",
       "      <td>True</td>\n",
       "    </tr>\n",
       "  </tbody>\n",
       "</table>\n",
       "<p>5 rows × 145 columns</p>\n",
       "</div>"
      ],
      "text/plain": [
       "   PlayerScore0  PlayerScore1  PlayerScore10  PlayerScore11  PlayerScore2  \\\n",
       "0           0.0           0.0            0.0            0.0           0.0   \n",
       "1           0.0           0.0            0.0            0.0           0.0   \n",
       "2           0.0           0.0            0.0            0.0           0.0   \n",
       "3           0.0           0.0            0.0            0.0           0.0   \n",
       "4           0.0           0.0            0.0            0.0           0.0   \n",
       "\n",
       "   PlayerScore3  PlayerScore4  PlayerScore5  PlayerScore6  PlayerScore7  ...  \\\n",
       "0           0.0           0.0           0.0           0.0           0.0  ...   \n",
       "1           0.0           0.0           0.0           0.0           0.0  ...   \n",
       "2           0.0           0.0           0.0           0.0           0.0  ...   \n",
       "3           0.0           0.0           0.0           0.0           0.0  ...   \n",
       "4           0.0           0.0           0.0           0.0           0.0  ...   \n",
       "\n",
       "   turretKills  turretTakedowns  turretsLost  unrealKills  visionClearedPings  \\\n",
       "0            2                3            3            0                   0   \n",
       "1            1                3            3            0                   0   \n",
       "2            5                7            3            0                   0   \n",
       "3            2                4            3            0                   0   \n",
       "4            0                2            3            0                   0   \n",
       "\n",
       "   visionScore  visionWardsBoughtInGame  wardsKilled wardsPlaced   win  \n",
       "0           25                        0            2          13  True  \n",
       "1           33                        5            6           6  True  \n",
       "2           13                        0            3           8  True  \n",
       "3           35                        0            3          11  True  \n",
       "4           68                        4            2          29  True  \n",
       "\n",
       "[5 rows x 145 columns]"
      ]
     },
     "execution_count": 42,
     "metadata": {},
     "output_type": "execute_result"
    }
   ],
   "source": [
    "cleaned.head()"
   ]
  },
  {
   "cell_type": "code",
   "execution_count": 49,
   "metadata": {},
   "outputs": [
    {
     "data": {
      "text/plain": [
       "'Amumu'"
      ]
     },
     "execution_count": 49,
     "metadata": {},
     "output_type": "execute_result"
    }
   ],
   "source": [
    "cleaned.iloc[501]['championName']"
   ]
  },
  {
   "cell_type": "code",
   "execution_count": 75,
   "metadata": {},
   "outputs": [],
   "source": [
    "grouped = cleaned.groupby('championName')\n",
    "casts = grouped[['spell1Casts', 'spell2Casts', 'spell3Casts', 'spell4Casts']].mean().sum(axis=1).sort_values(ascending=False)"
   ]
  },
  {
   "cell_type": "code",
   "execution_count": 76,
   "metadata": {},
   "outputs": [
    {
     "data": {
      "text/plain": [
       "championName\n",
       "Nidalee       708.750000\n",
       "Zeri          552.290503\n",
       "Karthus       529.730263\n",
       "Cassiopeia    529.519608\n",
       "Riven         499.044177\n",
       "dtype: float64"
      ]
     },
     "execution_count": 76,
     "metadata": {},
     "output_type": "execute_result"
    }
   ],
   "source": [
    "casts.head()"
   ]
  },
  {
   "cell_type": "code",
   "execution_count": 87,
   "metadata": {},
   "outputs": [
    {
     "data": {
      "text/plain": [
       "<Axes: xlabel='championName'>"
      ]
     },
     "execution_count": 87,
     "metadata": {},
     "output_type": "execute_result"
    },
    {
     "data": {
      "image/png": "[encoded data removed]",
      "text/plain": [
       "<Figure size 1000x600 with 1 Axes>"
      ]
     },
     "metadata": {},
     "output_type": "display_data"
    }
   ],
   "source": [
    "casts[:5].plot(kind='bar', figsize=(10, 6), color='skyblue')"
   ]
  },
  {
   "cell_type": "code",
   "execution_count": 86,
   "metadata": {},
   "outputs": [
    {
     "data": {
      "text/plain": [
       "<Axes: xlabel='championName'>"
      ]
     },
     "execution_count": 86,
     "metadata": {},
     "output_type": "execute_result"
    },
    {
     "data": {
      "image/png": "[encoded data removed]",
      "text/plain": [
       "<Figure size 1000x600 with 1 Axes>"
      ]
     },
     "metadata": {},
     "output_type": "display_data"
    }
   ],
   "source": [
    "casts.plot(kind='line', figsize=(10, 6), color='skyblue', marker='o')"
   ]
  },
  {
   "cell_type": "code",
   "execution_count": null,
   "metadata": {},
   "outputs": [],
   "source": [
    "# IDEAS\n",
    "# correlate with champion winrate\n",
    "# correlate with champion pickrate\n",
    "# correlate with champion banrate\n",
    "# correlate with average rank\n",
    "\n",
    "# per champion,\n",
    "# correlate apm with rank\n",
    "# correlate "
   ]
  }
 ],
 "metadata": {
  "kernelspec": {
   "display_name": "Python 3",
   "language": "python",
   "name": "python3"
  },
  "language_info": {
   "codemirror_mode": {
    "name": "ipython",
    "version": 3
   },
   "file_extension": ".py",
   "mimetype": "text/x-python",
   "name": "python",
   "nbconvert_exporter": "python",
   "pygments_lexer": "ipython3",
   "version": "3.12.5"
  }
 },
 "nbformat": 4,
 "nbformat_minor": 2
}
